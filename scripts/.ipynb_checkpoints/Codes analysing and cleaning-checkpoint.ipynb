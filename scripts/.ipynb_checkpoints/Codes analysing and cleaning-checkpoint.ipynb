{
 "cells": [
  {
   "cell_type": "code",
   "execution_count": 2,
   "id": "0e18be49",
   "metadata": {},
   "outputs": [
    {
     "name": "stdout",
     "output_type": "stream",
     "text": [
      "Files in 'data' folder: ['hotels-vienna.csv']\n",
      "Files in 'output' folder: []\n"
     ]
    }
   ],
   "source": [
    "import os\n",
    "\n",
    "# Task 1\n",
    "# Define the main directory\n",
    "main_folder = 'C:/Users/Berisha_Shkelqim/Desktop/HotelsDataAnalysis'\n",
    "\n",
    "# List files in the 'data' folder\n",
    "data_folder = os.path.join(main_folder, 'data')\n",
    "print(\"Files in 'data' folder:\", os.listdir(data_folder))\n",
    "\n",
    "# List files in the 'output' folder\n",
    "output_folder = os.path.join(main_folder, 'output')\n",
    "print(\"Files in 'output' folder:\", os.listdir(output_folder))\n"
   ]
  },
  {
   "cell_type": "code",
   "execution_count": 3,
   "id": "a9852565",
   "metadata": {},
   "outputs": [
    {
     "name": "stdout",
     "output_type": "stream",
     "text": [
      "\n",
      "Files in 'data' folder:\n",
      "hotels-vienna.csv\n",
      "\n",
      "Files in 'output' folder:\n"
     ]
    }
   ],
   "source": [
    "import os\n",
    "\n",
    "# Task 2\n",
    "# Define the folders\n",
    "folders = {\n",
    "    'data': 'C:/Users/berisha_shkelqim/Desktop/HotelsDataAnalysis/data',\n",
    "    'output': 'C:/Users/berisha_shkelqim/Desktop/HotelsDataAnalysis/output'\n",
    "}\n",
    "\n",
    "# Loop through each folder and list files\n",
    "for folder_name, folder_path in folders.items():\n",
    "    print(f\"\\nFiles in '{folder_name}' folder:\")\n",
    "    for file in os.listdir(folder_path):\n",
    "        print(file)"
   ]
  },
  {
   "cell_type": "code",
   "execution_count": 4,
   "id": "3d3cb620",
   "metadata": {},
   "outputs": [
    {
     "name": "stdout",
     "output_type": "stream",
     "text": [
      "Variable Names:\n",
      "hotel_id\n",
      "accommodation_type\n",
      "country\n",
      "city\n",
      "city_actual\n",
      "neighbourhood\n",
      "center1label\n",
      "distance\n",
      "center2label\n",
      "distance_alter\n",
      "stars\n",
      "rating\n",
      "rating_count\n",
      "ratingta\n",
      "ratingta_count\n",
      "year\n",
      "month\n",
      "weekend\n",
      "holiday\n",
      "nnights\n",
      "price\n",
      "scarce_room\n",
      "offer\n",
      "offer_cat\n",
      "\n",
      "Variable Types:\n",
      "hotel_id: numeric\n",
      "accommodation_type: factor\n",
      "country: string\n",
      "city: string\n",
      "city_actual: string\n",
      "neighbourhood: string\n",
      "center1label: string\n",
      "distance: numeric\n",
      "center2label: string\n",
      "distance_alter: numeric\n",
      "stars: numeric\n",
      "rating: numeric\n",
      "rating_count: numeric\n",
      "ratingta: numeric\n",
      "ratingta_count: numeric\n",
      "year: numeric\n",
      "month: numeric\n",
      "weekend: binary\n",
      "holiday: binary\n",
      "nnights: factor\n",
      "price: numeric\n",
      "scarce_room: binary\n",
      "offer: binary\n",
      "offer_cat: factor\n"
     ]
    }
   ],
   "source": [
    "# Task 3\n",
    "# Create a list of variable names\n",
    "variable_names = [\n",
    "    'hotel_id',\n",
    "    'accommodation_type',\n",
    "    'country',\n",
    "    'city',\n",
    "    'city_actual',\n",
    "    'neighbourhood',\n",
    "    'center1label',\n",
    "    'distance',\n",
    "    'center2label',\n",
    "    'distance_alter',\n",
    "    'stars',\n",
    "    'rating',\n",
    "    'rating_count',\n",
    "    'ratingta',\n",
    "    'ratingta_count',\n",
    "    'year',\n",
    "    'month',\n",
    "    'weekend',\n",
    "    'holiday',\n",
    "    'nnights',\n",
    "    'price',\n",
    "    'scarce_room',\n",
    "    'offer',\n",
    "    'offer_cat'\n",
    "]\n",
    "\n",
    "# Create a dictionary for variable names and types\n",
    "variable_types = {\n",
    "    'hotel_id': 'numeric',\n",
    "    'accommodation_type': 'factor',\n",
    "    'country': 'string',\n",
    "    'city': 'string',\n",
    "    'city_actual': 'string',\n",
    "    'neighbourhood': 'string',\n",
    "    'center1label': 'string',\n",
    "    'distance': 'numeric',\n",
    "    'center2label': 'string',\n",
    "    'distance_alter': 'numeric',\n",
    "    'stars': 'numeric',\n",
    "    'rating': 'numeric',\n",
    "    'rating_count': 'numeric',\n",
    "    'ratingta': 'numeric',\n",
    "    'ratingta_count': 'numeric',\n",
    "    'year': 'numeric',\n",
    "    'month': 'numeric',\n",
    "    'weekend': 'binary',\n",
    "    'holiday': 'binary',\n",
    "    'nnights': 'factor',\n",
    "    'price': 'numeric',\n",
    "    'scarce_room': 'binary',\n",
    "    'offer': 'binary',\n",
    "    'offer_cat': 'factor'\n",
    "}\n",
    "\n",
    "# Demonstrate usage of the list and dictionary\n",
    "print(\"Variable Names:\")\n",
    "for name in variable_names:\n",
    "    print(name)\n",
    "\n",
    "print(\"\\nVariable Types:\")\n",
    "for var, var_type in variable_types.items():\n",
    "    print(f\"{var}: {var_type}\")"
   ]
  },
  {
   "cell_type": "code",
   "execution_count": 7,
   "id": "70bda016",
   "metadata": {},
   "outputs": [
    {
     "name": "stdout",
     "output_type": "stream",
     "text": [
      "<class 'pandas.core.frame.DataFrame'>\n",
      "RangeIndex: 428 entries, 0 to 427\n",
      "Data columns (total 24 columns):\n",
      " #   Column              Non-Null Count  Dtype  \n",
      "---  ------              --------------  -----  \n",
      " 0   country             428 non-null    object \n",
      " 1   city_actual         428 non-null    object \n",
      " 2   rating_count        393 non-null    float64\n",
      " 3   center1label        428 non-null    object \n",
      " 4   center2label        428 non-null    object \n",
      " 5   neighbourhood       428 non-null    object \n",
      " 6   price               428 non-null    int64  \n",
      " 7   city                428 non-null    object \n",
      " 8   stars               428 non-null    float64\n",
      " 9   ratingta            325 non-null    float64\n",
      " 10  ratingta_count      325 non-null    float64\n",
      " 11  scarce_room         428 non-null    int64  \n",
      " 12  hotel_id            428 non-null    int64  \n",
      " 13  offer               428 non-null    int64  \n",
      " 14  offer_cat           428 non-null    object \n",
      " 15  year                428 non-null    int64  \n",
      " 16  month               428 non-null    int64  \n",
      " 17  weekend             428 non-null    int64  \n",
      " 18  holiday             428 non-null    int64  \n",
      " 19  distance            428 non-null    float64\n",
      " 20  distance_alter      428 non-null    float64\n",
      " 21  accommodation_type  428 non-null    object \n",
      " 22  nnights             428 non-null    int64  \n",
      " 23  rating              393 non-null    float64\n",
      "dtypes: float64(7), int64(9), object(8)\n",
      "memory usage: 80.4+ KB\n",
      "Data Info:\n",
      "None\n",
      "\n",
      "Missing Values:\n",
      "country                 0\n",
      "city_actual             0\n",
      "rating_count           35\n",
      "center1label            0\n",
      "center2label            0\n",
      "neighbourhood           0\n",
      "price                   0\n",
      "city                    0\n",
      "stars                   0\n",
      "ratingta              103\n",
      "ratingta_count        103\n",
      "scarce_room             0\n",
      "hotel_id                0\n",
      "offer                   0\n",
      "offer_cat               0\n",
      "year                    0\n",
      "month                   0\n",
      "weekend                 0\n",
      "holiday                 0\n",
      "distance                0\n",
      "distance_alter          0\n",
      "accommodation_type      0\n",
      "nnights                 0\n",
      "rating                 35\n",
      "dtype: int64\n"
     ]
    }
   ],
   "source": [
    "# Task 5\n",
    "import pandas as pd\n",
    "\n",
    "# Define the file path to your CSV\n",
    "file_path = 'C:/Users/berisha_shkelqim/Desktop/HotelsDataAnalysis/data/hotels-vienna.csv'\n",
    "\n",
    "# Load the data\n",
    "data = pd.read_csv(file_path)\n",
    "\n",
    "# Check for missing values and data types\n",
    "data_info = data.info()\n",
    "missing_values = data.isnull().sum()\n",
    "\n",
    "print(\"Data Info:\")\n",
    "print(data_info)\n",
    "\n",
    "print(\"\\nMissing Values:\")\n",
    "print(missing_values)"
   ]
  },
  {
   "cell_type": "code",
   "execution_count": 9,
   "id": "7dfceb52",
   "metadata": {},
   "outputs": [
    {
     "name": "stdout",
     "output_type": "stream",
     "text": [
      "   country city_actual  rating_count center1label center2label neighbourhood  \\\n",
      "0  Austria      Vienna          36.0  City centre    Donauturm   17. Hernals   \n",
      "1  Austria      Vienna         189.0  City centre    Donauturm   17. Hernals   \n",
      "2  Austria      Vienna          53.0  City centre    Donauturm    Alsergrund   \n",
      "3  Austria      Vienna          55.0  City centre    Donauturm    Alsergrund   \n",
      "4  Austria      Vienna          33.0  City centre    Donauturm    Alsergrund   \n",
      "\n",
      "   price    city  stars  ratingta  ...     offer_cat  year  month  weekend  \\\n",
      "0     81  Vienna    4.0       4.5  ...  15-50% offer  2017     11        0   \n",
      "1     81  Vienna    4.0       3.5  ...   1-15% offer  2017     11        0   \n",
      "2     85  Vienna    4.0       3.5  ...  15-50% offer  2017     11        0   \n",
      "3     83  Vienna    3.0       4.0  ...  15-50% offer  2017     11        0   \n",
      "4     82  Vienna    4.0       3.5  ...  15-50% offer  2017     11        0   \n",
      "\n",
      "  holiday  distance  distance_alter  accommodation_type  nnights  rating  \n",
      "0       0       2.7             4.4           Apartment        1     4.4  \n",
      "1       0       1.7             3.8               Hotel        1     3.9  \n",
      "2       0       1.4             2.5               Hotel        1     3.7  \n",
      "3       0       1.7             2.5               Hotel        1     4.0  \n",
      "4       0       1.2             2.8               Hotel        1     3.9  \n",
      "\n",
      "[5 rows x 24 columns]\n"
     ]
    }
   ],
   "source": [
    "import pandas as pd\n",
    "\n",
    "# Task 6 ( load data and check if they are correct)\n",
    "# Define the file path to your CSV\n",
    "file_path = 'C:/Users/berisha_shkelqim/Desktop/HotelsDataAnalysis/data/hotels-vienna.csv'\n",
    "data = pd.read_csv(file_path)\n",
    "\n",
    "# Display the first few rows of the dataset to verify it's loaded correctly\n",
    "print(data.head())\n"
   ]
  },
  {
   "cell_type": "code",
   "execution_count": 10,
   "id": "eef457a5",
   "metadata": {},
   "outputs": [
    {
     "name": "stdout",
     "output_type": "stream",
     "text": [
      "    country city_actual  rating_count center1label center2label neighbourhood  \\\n",
      "0   Austria      Vienna          36.0  City centre    Donauturm   17. Hernals   \n",
      "5   Austria      Vienna          25.0  City centre    Donauturm    Alsergrund   \n",
      "7   Austria      Vienna         161.0  City centre    Donauturm    Alsergrund   \n",
      "10  Austria      Vienna         203.0  City centre    Donauturm    Alsergrund   \n",
      "12  Austria      Vienna         142.0  City centre    Donauturm    Alsergrund   \n",
      "\n",
      "    price    city  stars  ratingta  ...     offer_cat  year  month  weekend  \\\n",
      "0      81  Vienna    4.0       4.5  ...  15-50% offer  2017     11        0   \n",
      "5     229  Vienna    5.0       4.5  ...   1-15% offer  2017     11        0   \n",
      "7     150  Vienna    4.0       4.5  ...   0% no offer  2017     11        0   \n",
      "10     60  Vienna    4.0       4.0  ...   1-15% offer  2017     11        0   \n",
      "12    100  Vienna    4.0       4.0  ...  15-50% offer  2017     11        0   \n",
      "\n",
      "   holiday  distance  distance_alter  accommodation_type  nnights  rating  \n",
      "0        0       2.7             4.4           Apartment        1     4.4  \n",
      "5        0       0.9             3.0           Apartment        1     4.8  \n",
      "7        0       1.0             2.7               Hotel        1     4.6  \n",
      "10       0       1.1             2.7               Hotel        1     4.1  \n",
      "12       0       1.0             2.3           Apartment        1     4.5  \n",
      "\n",
      "[5 rows x 24 columns]\n"
     ]
    }
   ],
   "source": [
    "# Now filter hotels (task 6)\n",
    "# Filter observations hotels with a rating greater than 4\n",
    "filtered_data = data[data['rating'] > 4]\n",
    "\n",
    "# Display the filtered dataset\n",
    "print(filtered_data.head())"
   ]
  },
  {
   "cell_type": "code",
   "execution_count": 11,
   "id": "c04fa7e3",
   "metadata": {},
   "outputs": [
    {
     "name": "stdout",
     "output_type": "stream",
     "text": [
      "    hotel_id  rating  price\n",
      "0      21894     4.4     81\n",
      "5      21904     4.8    229\n",
      "7      21907     4.6    150\n",
      "10     21912     4.1     60\n",
      "12     21914     4.5    100\n"
     ]
    }
   ],
   "source": [
    "# Select variables (hotel_id, rating and price) (task 6)\n",
    "\n",
    "# Select specific variables\n",
    "selected_variables = filtered_data[['hotel_id', 'rating', 'price']]\n",
    "\n",
    "# Display the selected variables\n",
    "print(selected_variables.head())"
   ]
  },
  {
   "cell_type": "code",
   "execution_count": 12,
   "id": "42eb3a2d",
   "metadata": {},
   "outputs": [
    {
     "name": "stdout",
     "output_type": "stream",
     "text": [
      "    hotel_id  rating  price price_category\n",
      "0      21894     4.4     81         Budget\n",
      "5      21904     4.8    229         Luxury\n",
      "7      21907     4.6    150      Mid-range\n",
      "10     21912     4.1     60         Budget\n",
      "12     21914     4.5    100      Mid-range\n"
     ]
    },
    {
     "name": "stderr",
     "output_type": "stream",
     "text": [
      "C:\\Users\\Berisha_Shkelqim\\AppData\\Local\\Temp\\ipykernel_11688\\2573151349.py:13: SettingWithCopyWarning: \n",
      "A value is trying to be set on a copy of a slice from a DataFrame.\n",
      "Try using .loc[row_indexer,col_indexer] = value instead\n",
      "\n",
      "See the caveats in the documentation: https://pandas.pydata.org/pandas-docs/stable/user_guide/indexing.html#returning-a-view-versus-a-copy\n",
      "  selected_variables['price_category'] = selected_variables['price'].apply(price_category)\n"
     ]
    }
   ],
   "source": [
    "# Transform Variables (Task 6)\n",
    "\n",
    "# Create a new variable for price category\n",
    "def price_category(price):\n",
    "    if price < 100:\n",
    "        return 'Budget'\n",
    "    elif 100 <= price < 200:\n",
    "        return 'Mid-range'\n",
    "    else:\n",
    "        return 'Luxury'\n",
    "\n",
    "# create a new column\n",
    "selected_variables['price_category'] = selected_variables['price'].apply(price_category)\n",
    "\n",
    "# Display new dataset (transformet)\n",
    "print(selected_variables.head())"
   ]
  },
  {
   "cell_type": "code",
   "execution_count": 13,
   "id": "2b4b338d",
   "metadata": {},
   "outputs": [],
   "source": [
    "import pandas as pd\n",
    "\n",
    "# Task 7\n",
    "\n",
    "# Save Data\n",
    "filtered_data.to_csv('C:/Users/berisha_shkelqim/Desktop/HotelsDataAnalysis/output/filtered_hotels_vienna.csv', index=False)\n"
   ]
  },
  {
   "cell_type": "code",
   "execution_count": null,
   "id": "693b1b44",
   "metadata": {},
   "outputs": [],
   "source": []
  }
 ],
 "metadata": {
  "kernelspec": {
   "display_name": "Python 3 (ipykernel)",
   "language": "python",
   "name": "python3"
  },
  "language_info": {
   "codemirror_mode": {
    "name": "ipython",
    "version": 3
   },
   "file_extension": ".py",
   "mimetype": "text/x-python",
   "name": "python",
   "nbconvert_exporter": "python",
   "pygments_lexer": "ipython3",
   "version": "3.9.12"
  }
 },
 "nbformat": 4,
 "nbformat_minor": 5
}
